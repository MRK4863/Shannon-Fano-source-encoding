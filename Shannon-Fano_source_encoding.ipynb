{
 "cells": [
  {
   "cell_type": "markdown",
   "metadata": {},
   "source": [
    "# SHANNON-FANO ENCODING"
   ]
  },
  {
   "cell_type": "markdown",
   "metadata": {},
   "source": [
    "## Enter the source probabilities"
   ]
  },
  {
   "cell_type": "code",
   "execution_count": null,
   "metadata": {},
   "outputs": [
    {
     "name": "stdout",
     "output_type": "stream",
     "text": [
      "Enter the number of Source-symbols : 5\n",
      "\n",
      "Enter the symbol : a\n",
      "Enter the probability of symbol a : 0.22\n",
      "\n",
      "Enter the symbol : b\n",
      "Enter the probability of symbol b : 0.28\n",
      "\n",
      "Enter the symbol : c\n"
     ]
    }
   ],
   "source": [
    "n = int(input(\"Enter the number of Source-symbols : \"))\n",
    "source = []\n",
    "\n",
    "for i in range(n):\n",
    "    sym = input(\"\\nEnter the symbol : \")\n",
    "    prob = float(input(\"Enter the probability of symbol {} : \".format(sym)))\n",
    "    if prob<0:\n",
    "        raise(ValueError(\"PROBABILITY CAN'T BE NEGATIVE\"))\n",
    "    if prob>1:\n",
    "        raise(ValueError(\"PROBABILITY CAN'T BE GREATER THAN 1\"))\n",
    "    source.append((sym, prob))"
   ]
  },
  {
   "cell_type": "code",
   "execution_count": null,
   "metadata": {},
   "outputs": [],
   "source": [
    "#p = [0.3, 0.28, 0.22, 0.15, 0.06]\n",
    "#p = [0.25, 0.25, 0.125, 0.125, 0.125, 0.0625, 0.0625]\n",
    "#p = [0.4, 0.3, 0.2, 0.1]\n",
    "#p= [0.4, 0.2, 0.2, 0.1, 0.07, 0.03]\n",
    "#p = [0.3, 0.2, 0.15, 0.25, 0.1]\n",
    "#p = [0.48, 0.12, 0.12, 0.08, 0.08, 0.06, 0.04, 0.02]"
   ]
  },
  {
   "cell_type": "code",
   "execution_count": null,
   "metadata": {},
   "outputs": [],
   "source": [
    "source"
   ]
  },
  {
   "cell_type": "markdown",
   "metadata": {},
   "source": [
    "## Verifying validity of source probabilities and arranging them in descending order\n"
   ]
  },
  {
   "cell_type": "code",
   "execution_count": null,
   "metadata": {},
   "outputs": [],
   "source": [
    "def Sort_Tuple(tup):  \n",
    "   \n",
    "    # key is set to sort using second element of  \n",
    "    # sublist lambda has been used  \n",
    "    tup.sort(key = lambda x: x[1])  \n",
    "    return tup"
   ]
  },
  {
   "cell_type": "code",
   "execution_count": null,
   "metadata": {},
   "outputs": [],
   "source": [
    "Sort_Tuple(source)\n",
    "source.reverse()\n",
    "print(source)"
   ]
  },
  {
   "cell_type": "code",
   "execution_count": null,
   "metadata": {},
   "outputs": [],
   "source": [
    "sym = [i[0] for i in source]\n",
    "p = [i[1] for i in source]"
   ]
  },
  {
   "cell_type": "code",
   "execution_count": null,
   "metadata": {},
   "outputs": [],
   "source": [
    "print(sym)\n",
    "print(p)"
   ]
  },
  {
   "cell_type": "code",
   "execution_count": null,
   "metadata": {},
   "outputs": [],
   "source": [
    "if sum(p)==1:\n",
    "    print(\"Valid Source probabilities!!!\")\n",
    "else:\n",
    "    #print(\"SOURCE PROBABILITY ERROR!!!\")\n",
    "    raise(ValueError(\"SUM OF SOURCE PROBILITIES SHOULD BE 1\"))"
   ]
  },
  {
   "cell_type": "markdown",
   "metadata": {},
   "source": [
    "## Calculating the breakpoint at which the probabilities must be split"
   ]
  },
  {
   "cell_type": "code",
   "execution_count": null,
   "metadata": {},
   "outputs": [],
   "source": [
    "def bkpt(p):\n",
    "    diff=[]\n",
    "    for i in range(len(p)):\n",
    "        diff.append( abs( sum(p[:i]) - sum(p[i:])))#p[:2]=p[0], p[1], p[2] ,NOT p[3]\n",
    "    loc = diff.index(min(diff))\n",
    "    return loc"
   ]
  },
  {
   "cell_type": "markdown",
   "metadata": {},
   "source": [
    "## A node that can hold probability array and the corresponding code vector"
   ]
  },
  {
   "cell_type": "code",
   "execution_count": null,
   "metadata": {},
   "outputs": [],
   "source": [
    "class node:\n",
    "    def __init__(self):\n",
    "        self.left = None\n",
    "        self.right = None\n",
    "        self.p = None\n",
    "        self.code = \"\""
   ]
  },
  {
   "cell_type": "markdown",
   "metadata": {},
   "source": [
    "## Root node contains the original probability vector"
   ]
  },
  {
   "cell_type": "code",
   "execution_count": null,
   "metadata": {},
   "outputs": [],
   "source": [
    "root = node()\n",
    "root.p = p"
   ]
  },
  {
   "cell_type": "markdown",
   "metadata": {},
   "source": [
    "## Splitting into left and right sub-tree based on the breakpoint"
   ]
  },
  {
   "cell_type": "code",
   "execution_count": null,
   "metadata": {},
   "outputs": [],
   "source": [
    "def shannon(p, root):\n",
    "    if len(p) == 1:\n",
    "        return \n",
    "    else:\n",
    "        k = bkpt(p)\n",
    "        temp_left = node()\n",
    "        temp_right = node()\n",
    "        \n",
    "        temp_left.p = p[:k]\n",
    "        temp_right.p = p[k:]\n",
    "        \n",
    "        root.left = temp_left\n",
    "        root.right = temp_right\n",
    "        \n",
    "        shannon(p[:k], temp_left)\n",
    "        shannon(p[k:], temp_right)"
   ]
  },
  {
   "cell_type": "code",
   "execution_count": null,
   "metadata": {},
   "outputs": [],
   "source": [
    "shannon(p, root)"
   ]
  },
  {
   "cell_type": "markdown",
   "metadata": {},
   "source": [
    "## Assigning codes to each Node"
   ]
  },
  {
   "cell_type": "code",
   "execution_count": null,
   "metadata": {},
   "outputs": [],
   "source": [
    "def assign_code(root):\n",
    "    if root==None:\n",
    "        return\n",
    "    \n",
    "    if root.left!=None and root.right!=None:\n",
    "        root.right.code = root.code + \"0\"\n",
    "        root.left.code = root.code + \"1\"\n",
    "\n",
    "        \n",
    "    if root.left==None and root.right!=None:\n",
    "        root.right.code = root.code + \"0\"\n",
    "        \n",
    "    if root.left!=None and root.right==None:\n",
    "        root.left.code = root.code + \"1\"\n",
    "    \n",
    "    assign_code(root.left)\n",
    "    assign_code(root.right)"
   ]
  },
  {
   "cell_type": "code",
   "execution_count": null,
   "metadata": {},
   "outputs": [],
   "source": [
    "assign_code(root)"
   ]
  },
  {
   "cell_type": "code",
   "execution_count": null,
   "metadata": {},
   "outputs": [],
   "source": [
    "code_vector=[]\n",
    "p_map = []"
   ]
  },
  {
   "cell_type": "markdown",
   "metadata": {},
   "source": [
    "## Extracting the code vectors from the Nodes that do not have any children"
   ]
  },
  {
   "cell_type": "code",
   "execution_count": null,
   "metadata": {},
   "outputs": [],
   "source": [
    "def print_code(root): \n",
    "    if root :\n",
    "        print_code(root.left)\n",
    "        print_code(root.right)\n",
    "        if len(root.p)==1:\n",
    "            print(root.p, root.code)\n",
    "            code_vector.append(root.code)\n",
    "            p_map.append(root.p[0])"
   ]
  },
  {
   "cell_type": "code",
   "execution_count": null,
   "metadata": {},
   "outputs": [],
   "source": [
    "print_code(root)"
   ]
  },
  {
   "cell_type": "code",
   "execution_count": null,
   "metadata": {},
   "outputs": [],
   "source": [
    "if len(code_vector[0])>len(code_vector[-1]):\n",
    "    code_vector.reverse()\n",
    "    p_map.reverse()"
   ]
  },
  {
   "cell_type": "code",
   "execution_count": null,
   "metadata": {},
   "outputs": [],
   "source": [
    "code_vector"
   ]
  },
  {
   "cell_type": "code",
   "execution_count": null,
   "metadata": {},
   "outputs": [],
   "source": [
    "p_map"
   ]
  },
  {
   "cell_type": "code",
   "execution_count": null,
   "metadata": {},
   "outputs": [],
   "source": [
    "l_i=[]\n",
    "for i in code_vector:\n",
    "    l_i.append(len(i))\n"
   ]
  },
  {
   "cell_type": "code",
   "execution_count": null,
   "metadata": {},
   "outputs": [],
   "source": [
    "#sym = [\"S{}\".format(i) for i in range(len(p))]"
   ]
  },
  {
   "cell_type": "markdown",
   "metadata": {},
   "source": [
    "# Displaying the results in tabular format"
   ]
  },
  {
   "cell_type": "code",
   "execution_count": null,
   "metadata": {},
   "outputs": [],
   "source": [
    "import pandas as pd"
   ]
  },
  {
   "cell_type": "code",
   "execution_count": null,
   "metadata": {},
   "outputs": [],
   "source": [
    "df = pd.DataFrame(zip(sym, p_map, code_vector, l_i),columns = [\"Symbols\",\"P_i\",\"Code_Vector\", \"L_i\"])"
   ]
  },
  {
   "cell_type": "code",
   "execution_count": null,
   "metadata": {},
   "outputs": [],
   "source": [
    "df.style.set_properties(**{'text-align': 'left'})"
   ]
  },
  {
   "cell_type": "code",
   "execution_count": null,
   "metadata": {},
   "outputs": [],
   "source": [
    "def avg_length(p, l):\n",
    "    n=len(p)\n",
    "    L=0\n",
    "    for i in range(n):\n",
    "        L+=p[i]*l[i]\n",
    "    return L\n",
    "        "
   ]
  },
  {
   "cell_type": "code",
   "execution_count": null,
   "metadata": {},
   "outputs": [],
   "source": [
    "avg_length(p_map, l_i)"
   ]
  },
  {
   "cell_type": "markdown",
   "metadata": {},
   "source": [
    "## Entropy"
   ]
  },
  {
   "cell_type": "code",
   "execution_count": null,
   "metadata": {},
   "outputs": [],
   "source": [
    "import math\n",
    "\n",
    "#l=[0.714, 0.285,0.857, 0.142, 0.5, 0.25, 0.25]\n",
    "#l=[11/48,1/8,1/6,5/24,5/24,1/8]\n",
    "\n",
    "def entropy(l):\n",
    "    H=0;\n",
    "    for i in l:\n",
    "        H+=i*math.log((1/i),2)\n",
    "    return H"
   ]
  },
  {
   "cell_type": "code",
   "execution_count": null,
   "metadata": {},
   "outputs": [],
   "source": [
    "print(\"Entropy = {} bits/message-symbol\".format(entropy(p_map)))"
   ]
  },
  {
   "cell_type": "code",
   "execution_count": null,
   "metadata": {},
   "outputs": [],
   "source": [
    "eff = entropy(p_map)/avg_length(p_map, l_i)"
   ]
  },
  {
   "cell_type": "markdown",
   "metadata": {},
   "source": [
    "## Code Efficiency & Redundancy"
   ]
  },
  {
   "cell_type": "code",
   "execution_count": null,
   "metadata": {},
   "outputs": [],
   "source": [
    "print(\"Average length(L) = {} binits/message-symbol\".format(avg_length(p_map, l_i)))\n",
    "\n",
    "print(\"Entropy(H(s)) = {} bits/message-symbol\".format(entropy(p_map)))\n",
    "\n",
    "print(\"Code Efficiency(nc) = {} %\".format(eff*100) )\n",
    "print(\"Code Redundancy (Rnc)= {} %\".format((1-eff)*100) )"
   ]
  },
  {
   "cell_type": "code",
   "execution_count": null,
   "metadata": {},
   "outputs": [],
   "source": [
    "!pwd"
   ]
  },
  {
   "cell_type": "code",
   "execution_count": null,
   "metadata": {},
   "outputs": [],
   "source": [
    "import matplotlib\n",
    "import nu"
   ]
  }
 ],
 "metadata": {
  "kernelspec": {
   "display_name": "Python 3",
   "language": "python",
   "name": "python3"
  },
  "language_info": {
   "codemirror_mode": {
    "name": "ipython",
    "version": 3
   },
   "file_extension": ".py",
   "mimetype": "text/x-python",
   "name": "python",
   "nbconvert_exporter": "python",
   "pygments_lexer": "ipython3",
   "version": "3.7.6"
  },
  "toc": {
   "base_numbering": 1,
   "nav_menu": {},
   "number_sections": true,
   "sideBar": true,
   "skip_h1_title": true,
   "title_cell": "Table of Contents",
   "title_sidebar": "Contents",
   "toc_cell": false,
   "toc_position": {
    "height": "calc(100% - 180px)",
    "left": "10px",
    "top": "150px",
    "width": "307.2px"
   },
   "toc_section_display": true,
   "toc_window_display": false
  }
 },
 "nbformat": 4,
 "nbformat_minor": 4
}
